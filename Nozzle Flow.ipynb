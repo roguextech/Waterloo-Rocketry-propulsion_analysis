{
 "cells": [
  {
   "cell_type": "code",
   "execution_count": 114,
   "metadata": {},
   "outputs": [],
   "source": [
    "import ipywidgets as widgets\n",
    "from math import sqrt,pi\n",
    "from IPython.display import display\n",
    "import numpy as np\n",
    "import matplotlib\n",
    "import matplotlib.pyplot as plt\n",
    "noTruncate = {'description_width': 'initial'}"
   ]
  },
  {
   "cell_type": "code",
   "execution_count": 104,
   "metadata": {},
   "outputs": [
    {
     "data": {
      "text/plain": [
       "3.141592653589793"
      ]
     },
     "execution_count": 104,
     "metadata": {},
     "output_type": "execute_result"
    }
   ],
   "source": [
    "R=342\n",
    "At=0.00128443513 #m^2"
   ]
  },
  {
   "cell_type": "code",
   "execution_count": 108,
   "metadata": {},
   "outputs": [],
   "source": [
    "def massflowrate(Pc,OF,T,k):\n",
    "    Pc*=6894.5 #convert to Pa\n",
    "    mdot=At*Pc*k*sqrt((2/(k+1))**((k+1)/(k-1)))/(sqrt(k*R*T))\n",
    "    mdotI=mdot*OF/(1+OF)\n",
    "    print(\"Massflowrate:\",mdot)\n",
    "    print(\"Injector Massflowrate\",mdotI)\n",
    "    \n",
    "def smallestThroat(mdotI,Pc,T,k,OF):\n",
    "    Pc*=6894.5 #convert to Pa\n",
    "    mdot=mdotI*(1+OF)/OF\n",
    "    At=mdot/(Pc*k*sqrt((2/(k+1))**((k+1)/(k-1)))/(sqrt(k*R*T)))\n",
    "    print(\"Minimum Throat Area:\",At)\n",
    "    rt=sqrt(At/pi)*1000 #mm\n",
    "    print(\"Throat Rad (mm):\",rt)"
   ]
  },
  {
   "cell_type": "code",
   "execution_count": 118,
   "metadata": {},
   "outputs": [
    {
     "data": {
      "application/vnd.jupyter.widget-view+json": {
       "model_id": "8ec7d208bb944172a8189a28f74975cd",
       "version_major": 2,
       "version_minor": 0
      },
      "text/plain": [
       "HBox(children=(VBox(children=(BoundedFloatText(value=4.5, description='OF Ratio:', max=8.0, min=2.5, step=0.1,…"
      ]
     },
     "metadata": {},
     "output_type": "display_data"
    }
   ],
   "source": [
    "k=widgets.BoundedFloatText(\n",
    "    value=1.24,\n",
    "    min=1.1,\n",
    "    max=1.5,\n",
    "    step=0.1,\n",
    "    style=noTruncate,\n",
    "    description='Isentropic Ratio:',\n",
    "    disabled=False,\n",
    ")\n",
    "rho=widgets.BoundedFloatText(\n",
    "    value=3.4,\n",
    "    min=1,\n",
    "    max=5,\n",
    "    step=0.1,\n",
    "    description='Density [kg/m^3]:',\n",
    "    style=noTruncate,\n",
    "    disabled=False,\n",
    ")\n",
    "T=widgets.BoundedFloatText(\n",
    "    value=2900,\n",
    "    min=1000,\n",
    "    max=3000,\n",
    "    step=10,\n",
    "    style=noTruncate,\n",
    "    description='Inlet Temperature [K]:',\n",
    "    disabled=False,\n",
    ")\n",
    "\n",
    "OF=widgets.BoundedFloatText(\n",
    "    value=4.5,\n",
    "    min=2.5,\n",
    "    max=8.0,\n",
    "    step=0.1,\n",
    "    style=noTruncate,\n",
    "    description='OF Ratio:',\n",
    "    disabled=False,\n",
    ")\n",
    "Pc=widgets.BoundedFloatText(\n",
    "    value=500,\n",
    "    min=100,\n",
    "    max=800,\n",
    "    step=50,\n",
    "    style=noTruncate,\n",
    "    description='Chamber Pressure [psi]:',\n",
    "    disabled=False,\n",
    ")\n",
    "#display(OF,Pc,k,rho,T)\n",
    "output = widgets.interactive_output(massflowrate, {'Pc':Pc , 'k': k, 'T': T,\"OF\":OF})\n",
    "widgets.HBox([widgets.VBox([OF, Pc, k,T]), output])"
   ]
  },
  {
   "cell_type": "code",
   "execution_count": 119,
   "metadata": {},
   "outputs": [
    {
     "data": {
      "application/vnd.jupyter.widget-view+json": {
       "model_id": "59e236dc0df141a6be02b66652b4ded0",
       "version_major": 2,
       "version_minor": 0
      },
      "text/plain": [
       "HBox(children=(BoundedFloatText(value=2.2, description='Injector Massflowrate:', max=5.0, min=0.5, step=0.1), …"
      ]
     },
     "metadata": {},
     "output_type": "display_data"
    }
   ],
   "source": [
    "#flowrates=np.arange(0.25,3.0,0.25)\n",
    "#plt.plot(flowrates,smallestThroat(flowrates,500,2900,1.24,4.5))\n",
    "mdotI=widgets.BoundedFloatText(\n",
    "    value=2.2,\n",
    "    min=0.5,\n",
    "    max=5,\n",
    "    step=0.1,\n",
    "    description='Injector Massflowrate:',\n",
    "    disabled=False,\n",
    ")\n",
    "areaOutput=widgets.interactive_output(smallestThroat, {\"mdotI\":mdotI,'Pc':Pc , 'T': T,'k': k,\"OF\":OF})\n",
    "widgets.HBox([mdotI, areaOutput])"
   ]
  },
  {
   "cell_type": "code",
   "execution_count": null,
   "metadata": {},
   "outputs": [],
   "source": []
  }
 ],
 "metadata": {
  "kernelspec": {
   "display_name": "Python 3",
   "language": "python",
   "name": "python3"
  },
  "language_info": {
   "codemirror_mode": {
    "name": "ipython",
    "version": 3
   },
   "file_extension": ".py",
   "mimetype": "text/x-python",
   "name": "python",
   "nbconvert_exporter": "python",
   "pygments_lexer": "ipython3",
   "version": "3.7.4"
  }
 },
 "nbformat": 4,
 "nbformat_minor": 4
}
